{
 "cells": [
  {
   "cell_type": "markdown",
   "metadata": {},
   "source": [
    "#  CRUD con Kibana\n",
    "\n",
    "<img src=\"../images/els/kibanalogo.png\" alt=\"kibana Logo\"/>\n",
    "\n",
    "## Introducción\n",
    "\n",
    "Kibana es una herramienta grágica del ecosistema de Elasticsearch que permite visualizar los datos almacenados en Elasticsearch para crear dashboards de forma intuitiva. También permite realizar tareas de administración como crear ejecutar consultas contra elasticsearch, gestión de seguridad y usuarios, gestión geográfica de los datos o en tiempo real. \n",
    "\n",
    "En la maquina virtual que estás utilizando para realizar estas prácticas hay instalado un nodo de Elasticsearch y la versión correspondiente de Kibana.\n",
    "\n",
    "Para acceder al cluster de Elasticserach puedes utilizar la dirección http://127.0.0.1:9200\n",
    "\n",
    "Para acceder a Kibana pudes utilizar la dirección http://127.0.0.1:5601"
   ]
  },
  {
   "cell_type": "markdown",
   "metadata": {},
   "source": [
    "## Información del cluster\n",
    "\n",
    "Antes de empezar con el CRUD de datos en Elasticsearch con Kibana, vamos a ver como extraer información del cluster de elasticsearch.\n",
    "\n",
    "Si accedermos driectamente a la URL raíz del cluster obtenemos información sobre la instalación del cluster, como el nombre del cluster, la versión de Elasticsearch instalda o la versión de Lucene sobre la que está construida la versión de Elasticsearch.\n",
    "\n",
    "Vamos a ver esta infromación ejecutando un curl desde consola:"
   ]
  },
  {
   "cell_type": "code",
   "execution_count": null,
   "metadata": {},
   "outputs": [],
   "source": [
    "!curl -X GET http://127.0.0.1:9200"
   ]
  },
  {
   "cell_type": "markdown",
   "metadata": {},
   "source": [
    "Con los datos obtenidos intenta contestar a estas preguntas:\n",
    "\n",
    "1. ¿Qué nombre tiene el cluster?\n",
    "2. ¿Qué versión de Elasticsearch hay instalada en la máquina virutal?\n",
    "3. ¿Sobre qué versión de Lucene está desarrollada esta versión de Elasticsearch?\n",
    "4. ¿Con qué versión de Elasticsearch son retrocompatibles los índices ya creados? "
   ]
  },
  {
   "cell_type": "markdown",
   "metadata": {},
   "source": [
    "Si queremos obtener información sobre los índices creados en Elasticsearch pediremos la siguiente URL al cluster:"
   ]
  },
  {
   "cell_type": "code",
   "execution_count": null,
   "metadata": {},
   "outputs": [],
   "source": [
    "!curl -X GET http://127.0.0.1:9200/_cat/indices"
   ]
  },
  {
   "cell_type": "markdown",
   "metadata": {},
   "source": [
    "Las columnas mostradas hacen referencia a la siguiente información:\n",
    "* health: Salud del índice (green, yellow o red).\n",
    "* status: Estado del índice (open, close).\n",
    "* index: Nombre del índice.\n",
    "* uuid: Identificador único del índice.                 \n",
    "* pri: Número del shards primarios.\n",
    "* rep: Número de réplicas del índice.\n",
    "* docs.count: Número de documentos indexados.\n",
    "* docs.deleted: Número de documentos marcados para ser borrados.\n",
    "* store.size: Total de datos almacenados en el índice.\n",
    "* pri.store.size: Datos almacenados en el sahrd primario.\n"
   ]
  },
  {
   "cell_type": "markdown",
   "metadata": {},
   "source": [
    "Vamos a crear un índice desde consola con curl para ver que información nos da Elasticsearch del índice que creemos."
   ]
  },
  {
   "cell_type": "code",
   "execution_count": null,
   "metadata": {},
   "outputs": [],
   "source": [
    "! curl -X PUT \"http://127.0.01:9200/twitter?pretty\" -H 'Content-Type: application/json' -d' \\\n",
    "{ \\\n",
    "    \"settings\" : { \\\n",
    "        \"index\" : { \\\n",
    "            \"number_of_shards\" : 3, \\\n",
    "            \"number_of_replicas\" : 2 \\\n",
    "        } \\\n",
    "    } \\\n",
    "}'\n"
   ]
  },
  {
   "cell_type": "markdown",
   "metadata": {},
   "source": [
    "Si queremos ver sólo los datos del índice creado podemos filtar el resultado de _cat/indices:"
   ]
  },
  {
   "cell_type": "code",
   "execution_count": null,
   "metadata": {},
   "outputs": [],
   "source": [
    "!curl -X GET http://127.0.0.1:9200/_cat/indices/twitter"
   ]
  },
  {
   "cell_type": "markdown",
   "metadata": {},
   "source": [
    "Con la información anterior ¿sabrías contestar a estas preguntas?:\n",
    "\n",
    "1. ¿Por qué la salud del cluster es yellow?\n",
    "2. ¿Cuántos shards primarios tiene el índice?\n",
    "3. ¿Cuantas réplicas hay de cada shard?"
   ]
  },
  {
   "cell_type": "markdown",
   "metadata": {},
   "source": [
    "Vamos a investigar un poco más por que la salud del cluster es yellow. Para ello vamos a consultar la información de los shards del índice que hemos creado."
   ]
  },
  {
   "cell_type": "code",
   "execution_count": null,
   "metadata": {},
   "outputs": [],
   "source": [
    "!curl -X GET http://127.0.0.1:9200/_cat/shards/twitter"
   ]
  },
  {
   "cell_type": "markdown",
   "metadata": {},
   "source": [
    "Las columnas que nos devuelve hacen referencia a la siguiente información:\n",
    "* index: El nombre del índice.\n",
    "* shard: El nombre del shard.\n",
    "* primaryOrReplica: \n",
    "    * p: primario\n",
    "    * r: réplica\n",
    "* estado: Estado de la réplica:\n",
    "    * INITIALIZING: El shard se está recuperando.\n",
    "    * RELOCATING: El shard se está realojando en otro nodo del cluster.\n",
    "    * STARTED: El shard está iniciado (funcionando normal).\n",
    "    * UNASSIGNED: El shard no se ha asignado a ningún nodo.\n",
    "* docs: Número de documentos almacenados en el shard.\n",
    "* store: Tamaño del shard.\n",
    "* ip: La ip del nodo donde está el shard.\n",
    "* id: identificador del nodo donde está el shard."
   ]
  },
  {
   "cell_type": "markdown",
   "metadata": {},
   "source": [
    "Ahora vamos a ver el mapping type que tiene el índice que hemos creado."
   ]
  },
  {
   "cell_type": "code",
   "execution_count": null,
   "metadata": {},
   "outputs": [],
   "source": [
    "!curl -X GET http://127.0.0.1:9200/twitter?pretty=true"
   ]
  },
  {
   "cell_type": "markdown",
   "metadata": {},
   "source": [
    "Con la información obtenida:\n",
    "\n",
    "1. ¿Cuántos mappings tiene el índice?\n",
    "2. ¿Cuántos shards tiene el índice?\n",
    "3. ¿Cuántas réplicas tiene el índice?"
   ]
  },
  {
   "cell_type": "markdown",
   "metadata": {},
   "source": [
    "Vamos a insertar un dato en el índice."
   ]
  },
  {
   "cell_type": "code",
   "execution_count": null,
   "metadata": {},
   "outputs": [],
   "source": [
    "!curl -X POST \"localhost:9200/twitter/_doc/?pretty\" -H 'Content-Type: application/json' -d' \\\n",
    "{ \\\n",
    "    \"user\" : \"kimchy\", \\\n",
    "    \"post_date\" : \"2009-11-15T14:12:12\", \\\n",
    "    \"message\" : \"trying out Elasticsearch\" \\\n",
    "}'"
   ]
  },
  {
   "cell_type": "markdown",
   "metadata": {},
   "source": [
    "1. ¿Qué id le ha asignado Elasticsearch al documento?\n",
    "\n",
    "Vamos a pedir a Elasticsearch otra vez los datos de índice."
   ]
  },
  {
   "cell_type": "code",
   "execution_count": null,
   "metadata": {},
   "outputs": [],
   "source": [
    "!curl -X GET http://127.0.0.1:9200/twitter?pretty=true"
   ]
  },
  {
   "cell_type": "markdown",
   "metadata": {},
   "source": [
    "Con la información obtenida:\n",
    "\n",
    "1. ¿Cuantos mappings tiene ahora el índcie?\n",
    "2. ¿De qué tipo es el campo message?\n",
    "3. ¿De qué tipo es el campo date?\n",
    "4. ¿De qué tipo es el campo user?"
   ]
  },
  {
   "cell_type": "markdown",
   "metadata": {},
   "source": [
    "## Practica 1\n",
    "\n",
    "Los siguientes ejercicios los vamos a realizar sobre Kibana, para ello entra en la siguiente URL: http://127.0.0.1:5601\n",
    "\n",
    "También podrías realizarlos con el comando curl desde este notebook.\n",
    "\n",
    "### 1. Crear los siguientes documentos desde la pestaña Dev Tools de kibana. \n",
    "Se generará de manera automática un índice de nombre mitienda y tipo productos con las propiedades prenda, marca, color,...\n",
    "\n",
    "`PUT mitienda/productos/1\n",
    "{\n",
    "\"prenda\" : \"camiseta\",\n",
    "\"marca\" : \"nike\",\n",
    "\"color\" : \"rojo\",\n",
    "\"talla\" : 3,\n",
    "\"precio\" : 50,\n",
    "\"descripcion\" : \"sin mangas\",\n",
    "\"deporte\" : [\"baloncesto\", \"running\"]\n",
    "}`\n",
    "\n",
    "`PUT mitienda/productos/2\n",
    "{\n",
    "\"prenda\" : \"camiseta\",\n",
    "\"marca\" : \"adidas\",\n",
    "\"color\" : \"rojo\",\n",
    "\"talla\" : 3,\n",
    "\"precio\" : 25,\n",
    "\"descripcion\" : \"descatalogada\",\n",
    "\"deporte\" : [\"futbol\"]\n",
    "}`\n",
    "\n",
    "`PUT mitienda/productos/3\n",
    "{\n",
    "\"prenda\" : \"camiseta\",\n",
    "\"marca\" : \"Nike\",\n",
    "\"color\" : \"blanco\",\n",
    "\"talla\" : 4,\n",
    "\"precio\" : 45,\n",
    "\"descripcion\" : \"manga larga y reversible\",\n",
    "\"deporte\" : [\"futbol\"]\n",
    "}`\n",
    "\n",
    "`PUT mitienda/productos/4\n",
    "{\n",
    "\"prenda\" : \"camiseta\",\n",
    "\"marca\" : \"adidas\",\n",
    "\"color\" : \"blanca\",\n",
    "\"talla\" : 4,\n",
    "\"precio\" : 25,\n",
    "\"descripcion\" : \"manga corta\",\n",
    "\"deporte\" : [\"running\"]\n",
    "}\n",
    "`"
   ]
  },
  {
   "cell_type": "markdown",
   "metadata": {},
   "source": [
    "### 2. Consulta el mapping type que ha creado Elasticsearch\n",
    "\n",
    "Para ello entra en la sección index management de Kibana y busca la información del index mitienda"
   ]
  },
  {
   "cell_type": "markdown",
   "metadata": {},
   "source": [
    "### 3. Buscar el documento 1\n",
    "\n",
    "`GET mitienda/productos/1\n",
    "`\n",
    "\n",
    "### 4. Borra el documento 1\n",
    "\n",
    "`GET mitienda/productos/1\n",
    "`"
   ]
  },
  {
   "cell_type": "markdown",
   "metadata": {},
   "source": [
    "### 5. Comprobar que no existe el documento 1\n",
    "\n",
    "Ejecuta la sentencia adecuada para realizar la comprobación."
   ]
  },
  {
   "cell_type": "markdown",
   "metadata": {},
   "source": [
    "### 6. Actualizar el precio del documento 4 a 45\n",
    "\n",
    "`POST mitienda/productos/4/_update\n",
    "{\n",
    "    \"doc\":{\n",
    "        \"precio\" : 45\n",
    "    }\n",
    "}\n",
    "`"
   ]
  },
  {
   "cell_type": "markdown",
   "metadata": {},
   "source": [
    "### 7. Generar un documento sin incluir el ID del documento.\n",
    "\n",
    "El método POST utilizado al insertar en un documento, asigna un valor al document_id aleatorio:\n",
    "\n",
    "`POST mitienda/productos\n",
    "{\n",
    "\"prenda\" : \"pantalon\",\n",
    "\"marca\" : \"adidas\",\n",
    "\"color\" : \"azul\",\n",
    "\"talla\" : 6,\n",
    "\"precio\" : 25,\n",
    "\"descripcion\" : \"corto\",\n",
    "\"deporte\" : [\"running\"]\n",
    "}\n",
    "`"
   ]
  },
  {
   "cell_type": "markdown",
   "metadata": {},
   "source": [
    "### 8. Realizar una consulta de todos los documentos del tipo productos del índice mitienda y localizar el id asignado a la última inserción\n",
    "\n",
    "`GET mitienda/productos/_search\n",
    "`"
   ]
  },
  {
   "cell_type": "markdown",
   "metadata": {},
   "source": [
    "### 9. MATCH Queries: \n",
    "\n",
    "Las consultas match son de tipo booleano e influyen en el score\n",
    "\n",
    "#### 9.1 Productos de la marca Nike\n",
    "\n",
    "`GET mitienda/productos/_search\n",
    "{\n",
    "    \"query\": {\n",
    "        \"match\": { \"marca\" : \"nike\"}\n",
    "    }\n",
    "}\n",
    "`"
   ]
  },
  {
   "cell_type": "markdown",
   "metadata": {},
   "source": [
    "#### 9.2 Productos de descripcion manga larga\n",
    "\n",
    "`GET mitienda/productos/_search?pretty\n",
    "{\n",
    "    \"query\": {\n",
    "        \"match\" : {\n",
    "            \"descripcion\" : {\n",
    "                \"query\" : \"manga larga\",\n",
    "                \"operator\" : \"and\"\n",
    "            }\n",
    "        }\n",
    "    }\n",
    "}\n",
    "`"
   ]
  },
  {
   "cell_type": "markdown",
   "metadata": {},
   "source": [
    "### 10. MATCH Phrase Query\n",
    "\n",
    "Búsqueda de una frase en un campo.\n",
    "\n",
    "#### 10.1 Productos cuya descripción contenga la frase manga corta\n",
    "\n",
    "`GET mitienda/productos/_search\n",
    "{\n",
    "    \"query\": {\n",
    "        \"match_phrase\": {\n",
    "            \"descripcion\": \"manga corta\"\n",
    "        }\n",
    "    }\n",
    "}\n",
    "`"
   ]
  },
  {
   "cell_type": "markdown",
   "metadata": {},
   "source": [
    "### 11. Ordenación: ordenar todos los productos en orden descendiente de precio\n",
    "\n",
    "`GET mitienda/productos/_search\n",
    "{\n",
    "    \"query\": {\n",
    "        \"match_all\": {}\n",
    "    },\n",
    "    \"sort\": [\n",
    "        { \"precio\": { \"order\": \"desc\" } }\n",
    "    ]\n",
    "}\n",
    "`"
   ]
  },
  {
   "cell_type": "markdown",
   "metadata": {},
   "source": [
    "### 12. Agregación: Mostrar los productos de marca nike y media de precios\n",
    "\n",
    "Se utilizan para realizar operaciones (media, suma, contar, ...) sobre un grupo de Documentos\n",
    "\n",
    "`GET mitienda/productos/_search\n",
    "{\n",
    "    \"query\": {\n",
    "        \"match\": {\n",
    "            \"marca\": \"nike\"\n",
    "        }\n",
    "    },\n",
    "    \"aggs\": {\n",
    "        \"all_deportes\": {\n",
    "            \"avg\": { \"field\": \"precio\" }\n",
    "        }\n",
    "    }\n",
    "}\n",
    "`"
   ]
  }
 ],
 "metadata": {
  "kernelspec": {
   "display_name": "Python 3",
   "language": "python",
   "name": "python3"
  },
  "language_info": {
   "codemirror_mode": {
    "name": "ipython",
    "version": 3
   },
   "file_extension": ".py",
   "mimetype": "text/x-python",
   "name": "python",
   "nbconvert_exporter": "python",
   "pygments_lexer": "ipython3",
   "version": "3.6.3"
  }
 },
 "nbformat": 4,
 "nbformat_minor": 2
}
