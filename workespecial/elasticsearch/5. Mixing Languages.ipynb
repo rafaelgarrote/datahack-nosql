{
 "cells": [
  {
   "cell_type": "markdown",
   "metadata": {},
   "source": [
    "# Mixing Languages\n",
    "\n",
    "Durante el indexado se realizan una serie de operaciones de análisis textual de los campos de los documentos. \n",
    "Este análisis se realiza mediante los analizadores que especifiquemos a la hora de crear el índice. \n",
    "\n",
    "Para que estos analizadores funcionen y hagan su labor correctamente, es necesario tener en cuenta el idioma del texto a analizar.\n",
    "\n",
    "Elasticsearch incorpora de fábrica una serie de analizadores para los siguientes idiomas:\n",
    "\n",
    "Arabic, Armenian, Basque, Brazilian, Bulgarian, Catalan, Chinese, Czech, Danish, Dutch, English, Finnish, French, Galician, German, Greek, Hindi, Hungarian, Indonesian, Irish, Italian, Japanese, Korean, Kurdish, Norwegian, Persian, Portuguese, Romanian, Russian, Spanish, Swedish, Turkish, y Thai.\n",
    "\n",
    "Estos analizadores realizan las siguientes funciones:\n",
    "* Toquenizado: extraen las palabras del texto:  The quick brown foxes → [The, quick, brown, foxes]\n",
    "* Pasar a minúsculas las palabras toquenizadas: The → the\n",
    "* Eliminar las stop words: [The, quick, brown, foxes] → [quick, brown, foxes]\n",
    "* Stemming: Extraer las raíces léxicas de las palabras toquenizadas foxes → fox\n",
    "* Otras operaciones específicas de cada idioma. Por ejemplo:\n",
    "* El analizador para Inglés elimina el posesivo 's: John's → john\n",
    "* El analizador para francés elimina las eliesons como l', qu' o tildes como ^, \":  l'église → eglis\n",
    "\n",
    "Si no se especifica analizador, Elasticsearch aplica un analizador estandar que no tiene en cuenta el idioma del documento.\n"
   ]
  },
  {
   "cell_type": "markdown",
   "metadata": {},
   "source": [
    "## Errores más comunes al mezclar idiomas:\n",
    "\n",
    "### Indexado: \n",
    "A la hora de insertar documentos multilenguaje en Elasticsearch hay tres alternativas:\n",
    "* Un solo idioma por documento que pueden contener fragmentos en otros idiomas.\n",
    "* Un idioma predominante por campo que puede contener fragmentos de otros idiomas.\n",
    "* Mezcla de idiomas por campo.\n",
    "\n",
    "En todas las alternativas el objetivo que se pretende conseguir (no siempre es posible) es mantener los idiomas separados. Mezclar lenguajes en el mismo índice inverso puede ser problemático.\n",
    "\n",
    "#### Stemming incorrecto: \n",
    "Cada idioma tiene sus reglas diferentes para hacer el stemming. Aplicar el mismo stemming para distintos idiomas, algunas palabras se analizaran correctamente y otras no. Extraer la misma raíz para palabras de distintos idiomas que tienen diferente significado o al revés, …\n",
    "\n",
    "Aplicar diferentes stemmers sobre las mismas palabras puede incurrir igualmente en errores. Aplicar un stemmer al resultado de las raíces del anterior da resultados erróneos. Aplicar siempre la regla only-one-stemmer.\n",
    "\n",
    "#### Frecuencias incorrectas en el índice inverso:\n",
    "Cuanto más alta es la frecuencia de aparición de un término en una colección de documentos, menos peso tendrá el término. \n",
    "\n",
    "Para tener una mayor precisión en el cálculo de relevancia, es necesario tener una buena estadística de frecuencias de términos. \n",
    "\n",
    "Los stemmers tienen mucha importancia en la generación de estas frecuencias. Aplicar un stemmer en inglés sobre documentos que tienen fragmentos de textos en alemán, dará más relevancia a los términos en alemán frente a los predominantes en inglés.\n",
    "\n",
    "### Durante las consultas: \n",
    "A la hora de consultar, es fundamental identificar cual es el idioma principal del usuario:\n",
    "* Usuarios que buscan palabras en su idioma principal.\n",
    "* Usuarios que buscan palabras en otro idioma pero esperan resultados en su lenguaje principal.\n",
    "* Usuarios que buscan palabras en otro idioma y esperan resultados en ese idioma (personas bilingües o que visitan una página que está en un idioma que no es el suyo)\n",
    "\n",
    "Dependiendo de lo anterior se pueden devolver resultados sólo del lenguaje de preferencia del usuario, o juntar esos resultados con los de otros lenguajes dando preferencia al idioma del usuario.\n"
   ]
  },
  {
   "cell_type": "markdown",
   "metadata": {},
   "source": [
    "### Alternativas:\n",
    "\n",
    "#### Un sólo idioma por documento\n",
    "* Índices separados por idiomas. Los documentos de cada idioma se indexan en el índice de su idioma. Esta solución elimina los problemas con las frecuencias de términos y de stemming.\n",
    "* Para hacer una consulta sobre varios idiomas, se pueden realizar la consultas sobre varios índices a la vez. Para darle más relevancia a un idioma en la bísqueda podemos utilizar el parámetro indices_boost.\n"
   ]
  },
  {
   "cell_type": "markdown",
   "metadata": {},
   "source": [
    "#### Un idioma por campo\n",
    "\n",
    "* Cada idioma tiene su propio campo dentro del documento que es analizado acorde al lenguaje que contiene. De esta forma se mantienen limpias la frecuencias de los términos para cada idioma. \n",
    "* Estos índices pueden consultarse de forma separada o si es necesario hacer búsquedas en varios idiomas se pueden consultar tantos campos como en tantos idiomas sean necesarios.\n",
    "* Además se puede especificar diferente boost para cada campo.\n"
   ]
  },
  {
   "cell_type": "markdown",
   "metadata": {},
   "source": [
    "#### Campos con idiomas mezclados\n",
    "\n",
    "Tenemos texto con varios idiomas mezclados. En estos casos es complicado manejar correctamente el análisis. \n",
    "\n",
    "Algunas alternativas son:\n",
    "* Separar el texto en diferentes campos:\n",
    "    * Para ello utilizaremos detectores de idioma para separar las frases de cada idioma del texto original. \n",
    "    * Una vez separadas indexamos cada frase en su campo.\n",
    "* Analizar el textos varias veces:\n",
    "    * Creamos un campo con el valor original y el analizador estandar por defecto. \n",
    "    * Utilizamos un multi-field para cada idioma con el analizador adecuado.\n"
   ]
  },
  {
   "cell_type": "code",
   "execution_count": null,
   "metadata": {},
   "outputs": [],
   "source": []
  }
 ],
 "metadata": {
  "kernelspec": {
   "display_name": "Python 3",
   "language": "python",
   "name": "python3"
  },
  "language_info": {
   "codemirror_mode": {
    "name": "ipython",
    "version": 3
   },
   "file_extension": ".py",
   "mimetype": "text/x-python",
   "name": "python",
   "nbconvert_exporter": "python",
   "pygments_lexer": "ipython3",
   "version": "3.6.3"
  }
 },
 "nbformat": 4,
 "nbformat_minor": 2
}
