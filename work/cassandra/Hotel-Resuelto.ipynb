{
 "cells": [
  {
   "cell_type": "markdown",
   "metadata": {},
   "source": [
    "# Ejercicio Cassansdra\n",
    "\n",
    "## Gestión de reservas de hoteles"
   ]
  },
  {
   "cell_type": "markdown",
   "metadata": {},
   "source": [
    "Un hotel desea gestionar huéspedes en un libro de reservas. \n",
    "\n",
    "Nuestro dominio conceptual contiene hoteles, huéspedes que se alojan en los hoteles, un conjunto de habitaciones para cada hotel, y un registro de las reservas. \n",
    "\n",
    "Los hoteles también mantienen una colección de puntos de interés los cuales son museos, parques, almacenes de compras, monumentos u otros lugares cercanos al hotel que los huéspedes quieran visitar durante su estancia. \n",
    "\n",
    "Tanto hoteles como puntos de interés necesitan mantener datos de localización geográfica para ser localizados en mapas y para calcular distancias.\n"
   ]
  },
  {
   "cell_type": "markdown",
   "metadata": {},
   "source": [
    "### 1. Conectamos al cluster de Cassandra y preparamos el keyspace para el ejercicio"
   ]
  },
  {
   "cell_type": "code",
   "execution_count": null,
   "metadata": {},
   "outputs": [],
   "source": [
    "from cassandra.cluster import Cluster\n",
    "from cassandra.auth import PlainTextAuthProvider\n",
    "\n",
    "auth_provider = PlainTextAuthProvider(username='cassandra', password='cassandra')\n",
    "cluster = Cluster(contact_points=['127.0.0.1'], port=9042, auth_provider=auth_provider)\n",
    "session = cluster.connect()"
   ]
  },
  {
   "cell_type": "code",
   "execution_count": null,
   "metadata": {},
   "outputs": [],
   "source": [
    "session.execute(\"DROP KEYSPACE IF EXISTS hotels\")\n",
    "\n",
    "session.execute(\"CREATE KEYSPACE hotels WITH replication = {'class': 'SimpleStrategy', 'replication_factor' : 1}\")\n",
    "session.set_keyspace('hotels')"
   ]
  },
  {
   "cell_type": "markdown",
   "metadata": {},
   "source": [
    "### 2. Creamos las tablas para los datos"
   ]
  },
  {
   "cell_type": "code",
   "execution_count": null,
   "metadata": {},
   "outputs": [],
   "source": [
    "#1.. Encontrar hoteles de una ciudad concreta de un país concreto.\n",
    "\n",
    "session.execute(\n",
    "    \"\"\"\n",
    "    CREATE TABLE hotels_by_city_and_country (\n",
    "    country text, \n",
    "    city text, \n",
    "    name text,  \n",
    "    category text, \n",
    "    PRIMARY KEY (country, city))\n",
    "    \"\"\"\n",
    ")"
   ]
  },
  {
   "cell_type": "code",
   "execution_count": null,
   "metadata": {},
   "outputs": [],
   "source": [
    "#2.. Encontrar información acerca de un hotel específico como nombre y localización.\n",
    "\n",
    "session.execute(\n",
    "    \"\"\"\n",
    "    CREATE TABLE hotels (\n",
    "    name text, \n",
    "    country text, \n",
    "    city text,\n",
    "    PRIMARY KEY (name))\n",
    "    \"\"\"\n",
    ")"
   ]
  },
  {
   "cell_type": "code",
   "execution_count": null,
   "metadata": {},
   "outputs": [],
   "source": [
    "#3.. Encontrar puntos de interés más cercanos al hotel específico ordenados por distancia.\n",
    "\n",
    "session.execute(\n",
    "    \"\"\"\n",
    "    CREATE TABLE points_of_interest_by_distance (\n",
    "    hotel_name text,\n",
    "    name text,\n",
    "    distance float, \n",
    "    point_type text, \n",
    "    address text, \n",
    "    PRIMARY KEY (hotel_name, distance, point_type))\n",
    "    \"\"\"\n",
    ")"
   ]
  },
  {
   "cell_type": "code",
   "execution_count": null,
   "metadata": {},
   "outputs": [],
   "source": [
    "#4.. Encontrar puntos de interés más cercanos al hotel específico ordenados por distancia y en función de su categoría. \n",
    "#    Por ejemplo, los monumentos más cercanos.\n",
    "\n",
    "session.execute(\n",
    "    \"\"\"\n",
    "    CREATE TABLE points_of_interest_by_type_and_distance (\n",
    "    hotel_name text,\n",
    "    name text, \n",
    "    point_type text,\n",
    "    distance float,  \n",
    "    address text, \n",
    "    PRIMARY KEY (hotel_name, point_type, distance))\n",
    "    \"\"\"\n",
    ")"
   ]
  },
  {
   "cell_type": "code",
   "execution_count": null,
   "metadata": {},
   "outputs": [],
   "source": [
    "#5.. Encontrar una habitación disponible en una fecha dada.\n",
    "\n",
    "session.execute(\n",
    "    \"\"\"\n",
    "    CREATE TABLE rooms_by_date (\n",
    "    date date, \n",
    "    free boolean,\n",
    "    hotel_name text,  \n",
    "    room int, \n",
    "    PRIMARY KEY (date, hotel_name, room, free))\n",
    "    \"\"\"\n",
    ")"
   ]
  },
  {
   "cell_type": "code",
   "execution_count": null,
   "metadata": {},
   "outputs": [],
   "source": [
    "#6.. Encontrar precios y características de las habitaciones.\n",
    "\n",
    "session.execute(\n",
    "    \"\"\"\n",
    "    CREATE TABLE rooms (\n",
    "    room int, \n",
    "    price float,\n",
    "    info text,  \n",
    "    PRIMARY KEY (room, price))\n",
    "    \"\"\"\n",
    ")"
   ]
  },
  {
   "cell_type": "code",
   "execution_count": null,
   "metadata": {},
   "outputs": [],
   "source": [
    "#7.. Reservar la habitación seleccionada agregando los datos del huésped.\n",
    "\n",
    "session.execute(\n",
    "    \"\"\"\n",
    "    CREATE TABLE reservations (\n",
    "    hotel text, \n",
    "    room int,\n",
    "    full_name text,  \n",
    "    address text, \n",
    "    PRIMARY KEY (hotel, room))\n",
    "    \"\"\"\n",
    ")"
   ]
  },
  {
   "cell_type": "markdown",
   "metadata": {},
   "source": [
    "### 3. Procesamos los datos y los insertamos en las tablas correspondientes"
   ]
  },
  {
   "cell_type": "code",
   "execution_count": null,
   "metadata": {},
   "outputs": [],
   "source": [
    "import pandas as pd\n",
    "\n",
    "df_hotels = pd.read_csv(\"../data/hotels.csv\", header = 0)\n",
    "df_rooms = pd.read_csv(\"../data/rooms.csv\", header = 0)\n",
    "df_reservations = pd.read_csv(\"../data/reservations.csv\", header = 0)\n",
    "df_points = pd.read_csv(\"../data/points.csv\", header = 0)"
   ]
  },
  {
   "cell_type": "code",
   "execution_count": null,
   "metadata": {},
   "outputs": [],
   "source": [
    "print(df_hotels.info())\n",
    "print(df_hotels.head(10))"
   ]
  },
  {
   "cell_type": "code",
   "execution_count": null,
   "metadata": {},
   "outputs": [],
   "source": [
    "for index, hotel in df_hotels.head(100).iterrows():\n",
    "    session.execute(\n",
    "        \"\"\"\n",
    "        INSERT INTO hotels_by_city_and_country (country, city, name, category)\n",
    "        VALUES (%s, %s, %s, %s)\n",
    "        \"\"\",\n",
    "        (hotel['country'], hotel['city'], hotel['name'], str(hotel['category']))\n",
    "    )"
   ]
  },
  {
   "cell_type": "code",
   "execution_count": null,
   "metadata": {},
   "outputs": [],
   "source": [
    "for index, hotel in df_hotels.head(100).iterrows():\n",
    "    session.execute(\n",
    "        \"\"\"\n",
    "        INSERT INTO hotels (name, country, city)\n",
    "        VALUES (%s, %s, %s)\n",
    "        \"\"\",\n",
    "        (hotel['name'], hotel['country'], hotel['city'])\n",
    "    )"
   ]
  },
  {
   "cell_type": "code",
   "execution_count": null,
   "metadata": {},
   "outputs": [],
   "source": [
    "poits_hotel = pd.merge(df_hotels, df_points, on=['id'])\n",
    "print(poits_hotel.info())\n",
    "print(poits_hotel.head(10))"
   ]
  },
  {
   "cell_type": "code",
   "execution_count": null,
   "metadata": {},
   "outputs": [],
   "source": [
    "for index, point in poits_hotel.head(100).iterrows():\n",
    "    session.execute(\n",
    "        \"\"\"\n",
    "        INSERT INTO points_of_interest_by_distance (hotel_name, name, distance, point_type, address)\n",
    "        VALUES (%s, %s, %s, %s, %s)\n",
    "        \"\"\",\n",
    "        (point['name_x'], point['name_y'], point['distance'], point['category_y'], point['address'])\n",
    "    )"
   ]
  },
  {
   "cell_type": "code",
   "execution_count": null,
   "metadata": {},
   "outputs": [],
   "source": [
    "for index, point in poits_hotel.head(100).iterrows():\n",
    "    session.execute(\n",
    "        \"\"\"\n",
    "        INSERT INTO points_of_interest_by_type_and_distance (hotel_name, name, distance, point_type, address)\n",
    "        VALUES (%s, %s, %s, %s, %s)\n",
    "        \"\"\",\n",
    "        (point['name_x'], point['name_y'], point['distance'], point['category_y'], point['address'])\n",
    "    )"
   ]
  },
  {
   "cell_type": "code",
   "execution_count": null,
   "metadata": {},
   "outputs": [],
   "source": [
    "print(df_rooms.info())\n",
    "print(df_rooms.head(10))"
   ]
  },
  {
   "cell_type": "code",
   "execution_count": null,
   "metadata": {},
   "outputs": [],
   "source": [
    "print(df_reservations.info())\n",
    "print(df_reservations.head(10))"
   ]
  },
  {
   "cell_type": "code",
   "execution_count": null,
   "metadata": {},
   "outputs": [],
   "source": [
    "hotels_with_reservations = pd.merge(df_hotels, df_reservations, on=['id'])\n",
    "print(hotels_with_reservations.info())\n",
    "print(hotels_with_reservations.head(10))"
   ]
  },
  {
   "cell_type": "code",
   "execution_count": null,
   "metadata": {},
   "outputs": [],
   "source": [
    "for index, room in hotels_with_reservations.head(100).iterrows():\n",
    "    session.execute(\n",
    "        \"\"\"\n",
    "        INSERT INTO rooms_by_date (date, free, hotel_name, room)\n",
    "        VALUES (%s, %s, %s, %s)\n",
    "        \"\"\",\n",
    "        (room['date'], room['free'], room['name'], room['roomNumber'])\n",
    "    )"
   ]
  },
  {
   "cell_type": "code",
   "execution_count": null,
   "metadata": {},
   "outputs": [],
   "source": [
    "hotels_with_room = pd.merge(df_hotels, df_rooms, on=['id'])\n",
    "print(hotels_with_room.info())\n",
    "print(hotels_with_room.head(10))"
   ]
  },
  {
   "cell_type": "code",
   "execution_count": null,
   "metadata": {},
   "outputs": [],
   "source": [
    "for index, room in hotels_with_room.head(100).iterrows():\n",
    "    session.execute(\n",
    "        \"\"\"\n",
    "        INSERT INTO rooms (room, price, info)\n",
    "        VALUES (%s, %s, %s)\n",
    "        \"\"\",\n",
    "        (room['number'], room['price'], room['info'])\n",
    "    )"
   ]
  },
  {
   "cell_type": "code",
   "execution_count": null,
   "metadata": {},
   "outputs": [],
   "source": [
    "for index, reservation in hotels_with_reservations.head(100).iterrows():\n",
    "    session.execute(\n",
    "        \"\"\"\n",
    "        INSERT INTO reservations (hotel, room)\n",
    "        VALUES (%s, %s)\n",
    "        \"\"\",\n",
    "        (reservation['name'], reservation['roomNumber'])\n",
    "    )"
   ]
  },
  {
   "cell_type": "code",
   "execution_count": null,
   "metadata": {},
   "outputs": [],
   "source": [
    "#Vemos como han quedado las tablas\n",
    "\n",
    "hotels_by_city_and_country = session.execute(\"SELECT * FROM hotels_by_city_and_country LIMIT 10\")\n",
    "for row in hotels_by_city_and_country:\n",
    "    print(row)   "
   ]
  },
  {
   "cell_type": "code",
   "execution_count": null,
   "metadata": {},
   "outputs": [],
   "source": [
    "hotels = session.execute(\"SELECT * FROM hotels LIMIT 10\")\n",
    "for row in hotels:\n",
    "    print(row)"
   ]
  },
  {
   "cell_type": "code",
   "execution_count": null,
   "metadata": {},
   "outputs": [],
   "source": [
    "points_of_interest_by_distance = session.execute(\"SELECT * FROM points_of_interest_by_distance LIMIT 10\")\n",
    "for row in points_of_interest_by_distance:\n",
    "    print(row)"
   ]
  },
  {
   "cell_type": "code",
   "execution_count": null,
   "metadata": {},
   "outputs": [],
   "source": [
    "points_of_interest_by_type_and_distance = session.execute(\"SELECT * FROM points_of_interest_by_type_and_distance LIMIT 10\")\n",
    "for row in points_of_interest_by_type_and_distance:\n",
    "    print(row) "
   ]
  },
  {
   "cell_type": "code",
   "execution_count": null,
   "metadata": {},
   "outputs": [],
   "source": [
    "rooms_by_date = session.execute(\"SELECT * FROM rooms_by_date LIMIT 10\")\n",
    "for row in rooms_by_date:\n",
    "    print(row) "
   ]
  },
  {
   "cell_type": "code",
   "execution_count": null,
   "metadata": {},
   "outputs": [],
   "source": [
    "rooms = session.execute(\"SELECT * FROM rooms LIMIT 10\")\n",
    "for row in rooms:\n",
    "    print(row)"
   ]
  },
  {
   "cell_type": "code",
   "execution_count": null,
   "metadata": {},
   "outputs": [],
   "source": [
    "reservations = session.execute(\"SELECT * FROM reservations LIMIT 10\")\n",
    "for row in reservations:\n",
    "    print(row)"
   ]
  },
  {
   "cell_type": "markdown",
   "metadata": {},
   "source": [
    "### 4. Ejecutamos las queries"
   ]
  },
  {
   "cell_type": "code",
   "execution_count": null,
   "metadata": {},
   "outputs": [],
   "source": [
    "#1.. Encontrar hoteles de una ciudad concreta de un país concreto.\n",
    "\n",
    "result = session.execute(\"SELECT * FROM hotels_by_city_and_country WHERE country = 'Italy' AND city = 'Florencia'\")\n",
    "\n",
    "for row in result:\n",
    "    print(row)"
   ]
  },
  {
   "cell_type": "code",
   "execution_count": null,
   "metadata": {},
   "outputs": [],
   "source": [
    "#2.. Encontrar información acerca de un hotel específico como nombre y localización.\n",
    "\n",
    "result_hotels = session.execute(\"SELECT * FROM hotels WHERE name = 'Maison Lavapies 100'\")\n",
    "\n",
    "for row in result_hotels:\n",
    "    print(row)"
   ]
  },
  {
   "cell_type": "code",
   "execution_count": null,
   "metadata": {},
   "outputs": [],
   "source": [
    "#3.. Encontrar puntos de interés más cercanos al hotel específico ordenados por distancia.\n",
    "\n",
    "result_points_distance = session.execute(\"SELECT * FROM points_of_interest_by_distance WHERE hotel_name = 'Parador Magenta 5'\")\n",
    "\n",
    "for row in result_points_distance:\n",
    "    print(row)"
   ]
  },
  {
   "cell_type": "code",
   "execution_count": null,
   "metadata": {},
   "outputs": [],
   "source": [
    "#4.. Encontrar puntos de interés más cercanos al hotel específico ordenados por distancia y en función de su categoría. \n",
    "\n",
    "result_points_type = session.execute(\"SELECT * FROM points_of_interest_by_type_and_distance WHERE hotel_name = 'Parador Magenta 5'\")\n",
    "\n",
    "for row in result_points_type:\n",
    "    print(row)"
   ]
  },
  {
   "cell_type": "code",
   "execution_count": null,
   "metadata": {},
   "outputs": [],
   "source": [
    "#5.. Encontrar una habitación disponible en una fecha dada.\n",
    "\n",
    "result_date = session.execute(\"SELECT * FROM rooms_by_date WHERE date = '2018-01-12'\")\n",
    "\n",
    "for row in result_date:\n",
    "    print(row)"
   ]
  },
  {
   "cell_type": "code",
   "execution_count": null,
   "metadata": {},
   "outputs": [],
   "source": [
    "#6.. Encontrar precios y características de las habitaciones.\n",
    "\n",
    "result_room = session.execute(\"SELECT * FROM rooms WHERE room = 12\")\n",
    "\n",
    "for row in result_room:\n",
    "    print(row)"
   ]
  },
  {
   "cell_type": "code",
   "execution_count": null,
   "metadata": {},
   "outputs": [],
   "source": [
    "#7.. Reservar la habitación seleccionada agregando los datos del huésped.\n",
    "\n",
    "result_room = session.execute(\"SELECT * FROM reservations WHERE hotel = '' AND room = ' '\")\n",
    "\n",
    "for row in result_room:\n",
    "    print(row)"
   ]
  }
 ],
 "metadata": {
  "kernelspec": {
   "display_name": "Python 3",
   "language": "python",
   "name": "python3"
  },
  "language_info": {
   "codemirror_mode": {
    "name": "ipython",
    "version": 3
   },
   "file_extension": ".py",
   "mimetype": "text/x-python",
   "name": "python",
   "nbconvert_exporter": "python",
   "pygments_lexer": "ipython3",
   "version": "3.6.3"
  }
 },
 "nbformat": 4,
 "nbformat_minor": 2
}
